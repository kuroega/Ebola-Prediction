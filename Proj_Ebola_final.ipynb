{
 "cells": [
  {
   "cell_type": "markdown",
   "metadata": {},
   "source": [
    "`Yuxiang Wang ` | `Zixun Zheng `"
   ]
  },
  {
   "cell_type": "markdown",
   "metadata": {},
   "source": [
    "# Final project of Introduction to Machine Learning (EL-GY 9123)\n",
    "\n",
    "Since **Ebola Virus** busted out to be a super threat to the human being in all over the world, we have a concern about the future of our life. The undergoing medical research may also be assisted by the prediction of the virus spreading. In our project, we conducted a simple but dedicated approach to predict the virus versus the temperature of the locations/ countries that have reported confirmed Ebola cases. \n",
    "The following are the basic steps to run the project in this notebook\n",
    "\n",
    "1. Load data source \n",
    "2. Cleanse data format and extract data\n",
    "3. Test data using different models\n",
    "4. Data visualization\n",
    "\t\t"
   ]
  },
  {
   "cell_type": "code",
   "execution_count": 1,
   "metadata": {},
   "outputs": [],
   "source": [
    "import numpy as np\n",
    "import matplotlib\n",
    "import matplotlib.pyplot as plt\n",
    "import pandas as pd\n",
    "from sklearn import datasets, linear_model, preprocessing\n",
    "%matplotlib inline"
   ]
  },
  {
   "cell_type": "code",
   "execution_count": 69,
   "metadata": {},
   "outputs": [
    {
     "data": {
      "text/html": [
       "<div>\n",
       "<style>\n",
       "    .dataframe thead tr:only-child th {\n",
       "        text-align: right;\n",
       "    }\n",
       "\n",
       "    .dataframe thead th {\n",
       "        text-align: left;\n",
       "    }\n",
       "\n",
       "    .dataframe tbody tr th {\n",
       "        vertical-align: top;\n",
       "    }\n",
       "</style>\n",
       "<table border=\"1\" class=\"dataframe\">\n",
       "  <thead>\n",
       "    <tr style=\"text-align: right;\">\n",
       "      <th></th>\n",
       "      <th>Indicator</th>\n",
       "      <th>Country</th>\n",
       "      <th>Date</th>\n",
       "      <th>value</th>\n",
       "    </tr>\n",
       "  </thead>\n",
       "  <tbody>\n",
       "    <tr>\n",
       "      <th>0</th>\n",
       "      <td>Cumulative number of confirmed, probable and s...</td>\n",
       "      <td>Guinea</td>\n",
       "      <td>2015-03-10</td>\n",
       "      <td>3285.0</td>\n",
       "    </tr>\n",
       "    <tr>\n",
       "      <th>1</th>\n",
       "      <td>Cumulative number of confirmed Ebola cases</td>\n",
       "      <td>Guinea</td>\n",
       "      <td>2015-03-10</td>\n",
       "      <td>2871.0</td>\n",
       "    </tr>\n",
       "    <tr>\n",
       "      <th>2</th>\n",
       "      <td>Cumulative number of probable Ebola cases</td>\n",
       "      <td>Guinea</td>\n",
       "      <td>2015-03-10</td>\n",
       "      <td>392.0</td>\n",
       "    </tr>\n",
       "    <tr>\n",
       "      <th>3</th>\n",
       "      <td>Cumulative number of suspected Ebola cases</td>\n",
       "      <td>Guinea</td>\n",
       "      <td>2015-03-10</td>\n",
       "      <td>22.0</td>\n",
       "    </tr>\n",
       "    <tr>\n",
       "      <th>4</th>\n",
       "      <td>Cumulative number of confirmed, probable and s...</td>\n",
       "      <td>Guinea</td>\n",
       "      <td>2015-03-10</td>\n",
       "      <td>2170.0</td>\n",
       "    </tr>\n",
       "    <tr>\n",
       "      <th>5</th>\n",
       "      <td>Cumulative number of confirmed Ebola deaths</td>\n",
       "      <td>Guinea</td>\n",
       "      <td>2015-03-10</td>\n",
       "      <td>1778.0</td>\n",
       "    </tr>\n",
       "  </tbody>\n",
       "</table>\n",
       "</div>"
      ],
      "text/plain": [
       "                                           Indicator Country        Date  \\\n",
       "0  Cumulative number of confirmed, probable and s...  Guinea  2015-03-10   \n",
       "1         Cumulative number of confirmed Ebola cases  Guinea  2015-03-10   \n",
       "2          Cumulative number of probable Ebola cases  Guinea  2015-03-10   \n",
       "3         Cumulative number of suspected Ebola cases  Guinea  2015-03-10   \n",
       "4  Cumulative number of confirmed, probable and s...  Guinea  2015-03-10   \n",
       "5        Cumulative number of confirmed Ebola deaths  Guinea  2015-03-10   \n",
       "\n",
       "    value  \n",
       "0  3285.0  \n",
       "1  2871.0  \n",
       "2   392.0  \n",
       "3    22.0  \n",
       "4  2170.0  \n",
       "5  1778.0  "
      ]
     },
     "execution_count": 69,
     "metadata": {},
     "output_type": "execute_result"
    }
   ],
   "source": [
    "names = ['Indicator','Country','Date','value']\n",
    "df = pd.read_csv('https://ds-ec2.scraperwiki.com/g7nnqgn/ckm9nsfssakeuor/cgi-bin/csv/ebola_data_db_format.csv',\n",
    "                names=names,na_values='?',header=None,skiprows=1)\n",
    "df = df.dropna()\n",
    "df.head(6)"
   ]
  },
  {
   "cell_type": "markdown",
   "metadata": {},
   "source": [
    "## 1. Take a look at the data\n",
    "in this data set `ebola_data_db_format.csv`, we have the statistics of `comfirmed` as `c`,`suspected` as `s`,`probable` as `p`,`deaths` as `d`.\n",
    "in the csv we have find in the 1st column, there are \n",
    "1. `cps` case\n",
    "2. `c` case\n",
    "3. `p` case\n",
    "4. `s` case\n",
    "where the number of `c` + `p` + `c` = `cps`\n",
    "\n",
    "and,\n",
    "1. `cps` death\n",
    "2. `c` death\n",
    "3. `p` death\n",
    "where the number of `c` + `p` = `cps`\n",
    "\n",
    "In our project we will computed the the ratio of comfirmed Ebola reports as `y`"
   ]
  },
  {
   "cell_type": "code",
   "execution_count": 70,
   "metadata": {
    "scrolled": true
   },
   "outputs": [
    {
     "data": {
      "text/plain": [
       "array(['Guinea', 'Liberia', 'Sierra Leone', 'United Kingdom', 'Mali',\n",
       "       'Nigeria', 'Senegal', 'Spain', 'United States of America', 'Italy',\n",
       "       'Liberia 2', 'Guinea 2'], dtype=object)"
      ]
     },
     "execution_count": 70,
     "metadata": {},
     "output_type": "execute_result"
    }
   ],
   "source": [
    "df['Country'].unique()\n",
    "# we need to select data only stable not recently updated\n",
    "# (Liberia 2 is a indicator that shows recently updated data), do not need to consider\n",
    "# leave it for later processing"
   ]
  },
  {
   "cell_type": "code",
   "execution_count": 499,
   "metadata": {},
   "outputs": [],
   "source": [
    "# Fetch weather data from the following authorized websites\n",
    "# www.holiday-weather.com\n",
    "# www.currentresults.com/Weather/US\n",
    "# www.nationsencyclopedia.com\n",
    "# www.weather-and-climate.com\n",
    "\n",
    "T_Guinea=[73.0,84.0,78.5]\n",
    "T_Liberia=[81.0,81.0,81.0]\n",
    "T_Sierra_Leone=[78.6,83.3,80.95]\n",
    "T_United_Kingdom=[40.0,60.0,50.0]\n",
    "T_Mali=[77.2,90.3,83.75]\n",
    "T_Nigeria=[78.8,82.4,80.6]\n",
    "T_Senegal=[70.0,82.0,76.0]\n",
    "T_Spain=[46.0,73.0,59.5]\n",
    "T_United_States_of_America=[33.2,71.9,52.55]\n",
    "T_Italy=[46.0,78.0,62.0]"
   ]
  },
  {
   "cell_type": "code",
   "execution_count": 86,
   "metadata": {},
   "outputs": [],
   "source": [
    "T = [T_Guinea, T_Italy, T_Liberia, T_Mali, T_Nigeria, T_Senegal,\n",
    "     T_Sierra_Leone, T_Spain, T_United_Kingdom, T_United_States_of_America]"
   ]
  },
  {
   "cell_type": "code",
   "execution_count": 90,
   "metadata": {},
   "outputs": [
    {
     "data": {
      "text/plain": [
       "73.0"
      ]
     },
     "execution_count": 90,
     "metadata": {},
     "output_type": "execute_result"
    }
   ],
   "source": [
    "T[0][0]"
   ]
  },
  {
   "cell_type": "code",
   "execution_count": 128,
   "metadata": {},
   "outputs": [],
   "source": [
    "# split df, choose first 0~9947 rows as stable data\n",
    "ntotal = 9947\n",
    "ntr = 8000\n",
    "nts = ntotal - ntr\n",
    "df_tot = df.loc[0:ntotal,:]"
   ]
  },
  {
   "cell_type": "markdown",
   "metadata": {},
   "source": [
    "## 2. Preprocessing\n",
    "Use annual average temperature to represent the country\n",
    "\n",
    "$$\n",
    "X = [Country, Date] \\to [avg_{Temperature}, Date] \\\\\n",
    "y1 = percentage of comfirmed disease reports \\\\ \n",
    "y2 = percentage of comfirmed death reports\n",
    "$$"
   ]
  },
  {
   "cell_type": "code",
   "execution_count": 129,
   "metadata": {},
   "outputs": [],
   "source": [
    "# extract date from dataframe\n",
    "x_df = df_tot.loc[df['Indicator'] == 'Cumulative number of confirmed, probable and suspected Ebola cases'\n",
    "                   , ['Country', 'Date', 'value']]"
   ]
  },
  {
   "cell_type": "code",
   "execution_count": 191,
   "metadata": {},
   "outputs": [],
   "source": [
    "# construct training data X[country, date]\n",
    "# convert the country and date column to numpy array\n",
    "x_df_country = x_df.take([0], axis=1)\n",
    "x_df_date = x_df.take([1], axis=1)\n",
    "\n",
    "x_country = x_df_country.values\n",
    "x_date = x_df_date.values\n",
    "\n",
    "# parse date to \"day of year\" numerical\n",
    "x_date = x_date.ravel()\n",
    "x_days = pd.to_datetime(x_date, format= \"%Y-%m-%d\").dayofyear.values\n",
    "x_country = x_country.ravel()"
   ]
  },
  {
   "cell_type": "code",
   "execution_count": 131,
   "metadata": {},
   "outputs": [],
   "source": [
    "# extract the confirmed ebola cases\n",
    "ls = []\n",
    "\n",
    "for i in range(x_date.shape[0]):\n",
    "    ls.append(df_tot.loc[(df['Date'] == x_date[i]) & \n",
    "                        (df['Country'] == x_country[i]) & \n",
    "                        (df['Indicator'] == 'Cumulative number of confirmed Ebola cases'),\n",
    "                        ['value']].take([0], axis=1).values)"
   ]
  },
  {
   "cell_type": "code",
   "execution_count": 132,
   "metadata": {},
   "outputs": [],
   "source": [
    "# convert cd list to numpy array of float elements\n",
    "cd_arr = np.array(ls)\n",
    "for i in range(len(cd_arr)):\n",
    "    if cd_arr[i].ravel().size == 0:\n",
    "        cd_arr[i] = float(0.0)\n",
    "    try:\n",
    "        cd_arr[i] = cd_arr[i].ravel()[0]\n",
    "    except:\n",
    "        continue"
   ]
  },
  {
   "cell_type": "code",
   "execution_count": 133,
   "metadata": {
    "scrolled": true
   },
   "outputs": [],
   "source": [
    "# get the total ebola cases \n",
    "totd_arr = x_df.take([2], axis=1).values\n",
    "totd_arr = totd_arr.ravel()"
   ]
  },
  {
   "cell_type": "code",
   "execution_count": 134,
   "metadata": {},
   "outputs": [],
   "source": [
    "# Compute the percentage of comfirmed ebola ratio\n",
    "\n",
    "# first fix invalid fields\n",
    "invalid_fields = np.where(totd_arr == 0)[0]\n",
    "totd_arr[invalid_fields] = (1, 1)\n",
    "cd_arr[invalid_fields] = (0, 0)\n",
    "\n",
    "cd_ratio = cd_arr / totd_arr # this is the array of percentage of cd (confirmed disease)"
   ]
  },
  {
   "cell_type": "code",
   "execution_count": 151,
   "metadata": {},
   "outputs": [],
   "source": [
    "y = cd_ratio"
   ]
  },
  {
   "cell_type": "code",
   "execution_count": 214,
   "metadata": {
    "scrolled": true
   },
   "outputs": [],
   "source": [
    "# create three arrays ready to be replaced by lowest temperature,\n",
    "#  highest temperature and average temperature\n",
    "x_lo_T = np.array([i for i in x_country])\n",
    "x_hi_T = np.array([i for i in x_country])\n",
    "x_avg_T = np.array([i for i in x_country])"
   ]
  },
  {
   "cell_type": "code",
   "execution_count": 215,
   "metadata": {},
   "outputs": [],
   "source": [
    "# replace each array by corresponding values for theirs temperature type\n",
    "nCountry = len(np.unique(x_country))\n",
    "# For the sake of readability, I seperate three loops instead of include them under a outler loop\n",
    "# lowest T\n",
    "for c in range (nCountry):\n",
    "    np.place(x_lo_T, x_lo_T == np.unique(x_country)[c], T[c][0])\n",
    "# highest T\n",
    "for c in range (nCountry):\n",
    "    np.place(x_hi_T, x_hi_T == np.unique(x_country)[c], T[c][1])\n",
    "# average T\n",
    "for c in range (nCountry):\n",
    "    np.place(x_avg_T, x_avg_T == np.unique(x_country)[c], T[c][2])            "
   ]
  },
  {
   "cell_type": "code",
   "execution_count": 475,
   "metadata": {},
   "outputs": [
    {
     "data": {
      "text/plain": [
       "array(['73.0', '81.0', '78.6', ..., '78.6', '81.0', '73.0'],\n",
       "      dtype='<U24')"
      ]
     },
     "execution_count": 475,
     "metadata": {},
     "output_type": "execute_result"
    }
   ],
   "source": []
  },
  {
   "cell_type": "code",
   "execution_count": 481,
   "metadata": {},
   "outputs": [
    {
     "data": {
      "text/plain": [
       "(1324, 4)"
      ]
     },
     "execution_count": 481,
     "metadata": {},
     "output_type": "execute_result"
    }
   ],
   "source": [
    "X = np.row_stack([xtr_lo_T, xtr_hi_T, xtr_avg_T, x_days]).T\n",
    "X = X.astype(float)\n",
    "\n",
    "# normalization\n",
    "X = X/np.max(X,axis=1)[:,None]\n",
    "X.shape"
   ]
  },
  {
   "cell_type": "markdown",
   "metadata": {},
   "source": [
    "## 3. Linear model\n",
    "Linear model can explain most physical phenomenan, so we choose it for first view at this problem.\n",
    "\n",
    "First, we import linear_model and use first 80% of data for trainning and the rest for test."
   ]
  },
  {
   "cell_type": "code",
   "execution_count": 482,
   "metadata": {
    "scrolled": false
   },
   "outputs": [
    {
     "data": {
      "text/plain": [
       "LinearRegression(copy_X=True, fit_intercept=True, n_jobs=1, normalize=False)"
      ]
     },
     "execution_count": 482,
     "metadata": {},
     "output_type": "execute_result"
    }
   ],
   "source": [
    "from sklearn import linear_model\n",
    "\n",
    "ntr = int(np.floor(0.8*X.shape[0]))\n",
    "xtr = X[:ntr,:]\n",
    "ytr = y[:ntr]\n",
    "xts = X[ntr:, :]\n",
    "yts = y[ntr:]\n",
    "\n",
    "regr = linear_model.LinearRegression()\n",
    "regr.fit(xtr,ytr)"
   ]
  },
  {
   "cell_type": "markdown",
   "metadata": {},
   "source": [
    "After fitting the linear model, we predict it using test data."
   ]
  },
  {
   "cell_type": "code",
   "execution_count": 495,
   "metadata": {},
   "outputs": [],
   "source": [
    "y_pred = regr.predict(xts)"
   ]
  },
  {
   "cell_type": "markdown",
   "metadata": {},
   "source": [
    "In another way, we use matrix computation to create a linear model and predict for test data."
   ]
  },
  {
   "cell_type": "code",
   "execution_count": 496,
   "metadata": {},
   "outputs": [],
   "source": [
    "# Assume countries and days are correlated\n",
    "Xtr = np.column_stack((np.ones(ntr),xtr[:,0],xtr[:,1],xtr[:,2],xtr[:,3]))\n",
    "Xts = np.column_stack((np.ones(xts.shape[0]),xts[:,0],xts[:,1],xts[:,2],xts[:,3]))\n",
    "\n",
    "# Compute weight matrix\n",
    "W1 = ytr[None,:,None]/Xtr[None,:,:]\n",
    "W1 = np.mean(W1,axis=1)\n",
    "\n",
    "y_pred1 = W1*Xts"
   ]
  },
  {
   "cell_type": "markdown",
   "metadata": {},
   "source": [
    "Plot `y_pred` vs `yts`, the red line indicates that `y_pred`=`yts`."
   ]
  },
  {
   "cell_type": "code",
   "execution_count": 497,
   "metadata": {},
   "outputs": [
    {
     "data": {
      "text/plain": [
       "[<matplotlib.lines.Line2D at 0x10c8db400>]"
      ]
     },
     "execution_count": 497,
     "metadata": {},
     "output_type": "execute_result"
    },
    {
     "data": {
      "image/png": "[encoded data removed]",
      "text/plain": [
       "<matplotlib.figure.Figure at 0x10c8db438>"
      ]
     },
     "metadata": {},
     "output_type": "display_data"
    }
   ],
   "source": [
    "plt.plot(y_pred,yts,'.')\n",
    "plt.plot([0.25,1.5], [0.25,1.5], 'r-', linewidth=1)"
   ]
  },
  {
   "cell_type": "markdown",
   "metadata": {},
   "source": [
    "We can see the dots locate around the \"great-fitting\" line."
   ]
  },
  {
   "cell_type": "markdown",
   "metadata": {},
   "source": [
    "## 4. Quadratic model\n",
    "Then, we use 2nd-order(quadratic) model to solve this problem.\n",
    "\n",
    "First, formulate matrix as Xtr=[1,xtr[0],xtr[0]^2,...,xtr[n],xtr[n]^2]. We assume that each factor is uncorrelated to each other."
   ]
  },
  {
   "cell_type": "code",
   "execution_count": 486,
   "metadata": {},
   "outputs": [],
   "source": [
    "n = 2 # 2-nd order\n",
    "\n",
    "# Assume countries and days are correlated\n",
    "Xtr = np.column_stack((np.ones(xtr.shape[0]),xtr[:,0],xtr[:,0]**2,xtr[:,1],\n",
    "                       xtr[:,1]**2,xtr[:,2],xtr[:,2]**2,xtr[:,3],xtr[:,3]**2))\n",
    "Xts = np.column_stack((np.ones(xts.shape[0]),xts[:,0],xts[:,0]**2,xts[:,1],\n",
    "                       xts[:,1]**2,xts[:,2],xts[:,2]**2,xts[:,3],xts[:,3]**2))\n",
    "\n",
    "# Compute weight matrix\n",
    "W2 = ytr[None,:,None]/Xtr[None,:,:]\n",
    "W2 = np.mean(W2,axis=1)\n",
    "\n",
    "y_pred2 = W2*Xts"
   ]
  },
  {
   "cell_type": "markdown",
   "metadata": {},
   "source": [
    "After trainning, we predict and plot `y_pred` vs `yts`. We can see it is better than linear model."
   ]
  },
  {
   "cell_type": "code",
   "execution_count": 487,
   "metadata": {},
   "outputs": [
    {
     "data": {
      "text/plain": [
       "[<matplotlib.lines.Line2D at 0x11573e860>]"
      ]
     },
     "execution_count": 487,
     "metadata": {},
     "output_type": "execute_result"
    },
    {
     "data": {
      "image/png": "[encoded data removed]",
      "text/plain": [
       "<matplotlib.figure.Figure at 0x11573e320>"
      ]
     },
     "metadata": {},
     "output_type": "display_data"
    }
   ],
   "source": [
    "plt.plot(y_pred,yts,'.')\n",
    "plt.plot([0.25,1.5], [0.25,1.5], 'r-', linewidth=1)"
   ]
  },
  {
   "cell_type": "markdown",
   "metadata": {},
   "source": [
    "## 5. Order selection\n",
    "Find a proper model order in range `N=10`.\n",
    "\n",
    "Create matrixs of each factor to perserve its each order."
   ]
  },
  {
   "cell_type": "code",
   "execution_count": 498,
   "metadata": {},
   "outputs": [],
   "source": [
    "N = 10  # order\n",
    "\n",
    "Xtr_lt = np.zeros((N,xtr.shape[0],1))\n",
    "Xtr_ht = np.zeros((N,xtr.shape[0],1))\n",
    "Xtr_at = np.zeros((N,xtr.shape[0],1))\n",
    "Xtr_day = np.zeros((N,xtr.shape[0],1))\n",
    "Xts_lt = np.zeros((N,xts.shape[0],1))\n",
    "Xts_ht = np.zeros((N,xts.shape[0],1))\n",
    "Xts_at = np.zeros((N,xts.shape[0],1))\n",
    "Xts_day = np.zeros((N,xts.shape[0],1))\n",
    "\n",
    "for i in range(N):\n",
    "    for m in range(xtr.shape[0]):\n",
    "        \n",
    "        Xtr_lt[i][m] = xtr[m,0]**i\n",
    "        Xtr_ht[i][m] = xtr[m,1]**i\n",
    "        Xtr_at[i][m] = xtr[m,2]**i\n",
    "        Xtr_day[i][m] = xtr[m,3]**i\n",
    "        \n",
    "    for n in range(xts.shape[0]):\n",
    "        \n",
    "        Xts_lt[i][n] = xts[n,0]**i\n",
    "        Xts_ht[i][n] = xts[n,1]**i\n",
    "        Xts_at[i][n] = xts[n,2]**i\n",
    "        Xts_day[i][n] = xts[n,3]**i\n",
    "    \n"
   ]
  },
  {
   "cell_type": "markdown",
   "metadata": {},
   "source": [
    "Column stack the factors into two matrixs, `Xtr_res` and `Xts_res`."
   ]
  },
  {
   "cell_type": "code",
   "execution_count": 490,
   "metadata": {},
   "outputs": [],
   "source": [
    "Xtr_res = []\n",
    "Xts_res = []\n",
    "Xtr_t_name = [Xtr_lt, Xtr_ht, Xtr_at, Xtr_day]\n",
    "Xts_t_name = [Xts_lt, Xts_ht, Xts_at, Xts_day]\n",
    "for t in range(4):\n",
    "    cur_tr = Xtr_t_name[t]\n",
    "    cur_ts = Xts_t_name[t]\n",
    "    newtr = []\n",
    "    newts = []\n",
    "    for n in range(N):\n",
    "        curtr = np.array([])\n",
    "        curtr = np.append(curtr, cur_tr[n])\n",
    "        newtr.append(curtr)\n",
    "        \n",
    "        curts = np.array([])\n",
    "        curts = np.append(curts, cur_ts[n])\n",
    "        newts.append(curts)\n",
    "    Xtr_res.append(newtr)\n",
    "    Xts_res.append(newts)"
   ]
  },
  {
   "cell_type": "markdown",
   "metadata": {},
   "source": [
    "Train the model and predict for each order."
   ]
  },
  {
   "cell_type": "code",
   "execution_count": 492,
   "metadata": {},
   "outputs": [],
   "source": [
    "Xtr = np.array(Xtr_res)\n",
    "Xts = np.array(Xts_res)\n",
    "y_pred = []\n",
    "w = []\n",
    "\n",
    "# Compute weight matrix\n",
    "for n in range(1, N):\n",
    "    for j in range(n):\n",
    "        X_tr = np.ones((xtr.shape[0],4*n+1))\n",
    "        if j == 0:\n",
    "            X_tr[:,0] = Xtr[0,j,:]\n",
    "        else:\n",
    "            X_tr[:,4*j-3] = Xtr[0,j,:]\n",
    "            X_tr[:,4*j-2] = Xtr[1,j,:]\n",
    "            X_tr[:,4*j-1] = Xtr[2,j,:]\n",
    "            X_tr[:,4*j] = Xtr[3,j,:]\n",
    "        \n",
    "        X_ts = np.ones((xts.shape[0],4*n+1))\n",
    "        if j == 0:\n",
    "            X_ts[:,0] = Xts[0,j,:]\n",
    "        else:\n",
    "            X_ts[:,4*j-3] = Xts[0,j,:]\n",
    "            X_ts[:,4*j-2] = Xts[1,j,:]\n",
    "            X_ts[:,4*j-1] = Xts[2,j,:]\n",
    "            X_ts[:,4*j] = Xts[3,j,:]\n",
    "        \n",
    "    W = ytr[None,:,None]/X_tr[None,:,:]\n",
    "    W = np.mean(W,axis=1)\n",
    "    w.append(W)\n",
    "    y_pred.append( np.mean(W*X_ts,axis=1))\n"
   ]
  },
  {
   "cell_type": "markdown",
   "metadata": {},
   "source": [
    "Plot `y_pred` vs `yts` for each order."
   ]
  },
  {
   "cell_type": "code",
   "execution_count": 494,
   "metadata": {},
   "outputs": [
    {
     "data": {
      "image/png": "[encoded data removed]",
      "text/plain": [
       "<matplotlib.figure.Figure at 0x10c9431d0>"
      ]
     },
     "metadata": {},
     "output_type": "display_data"
    }
   ],
   "source": [
    "y_pred = np.array(y_pred)\n",
    "\n",
    "plt.figure(figsize=[25,25])\n",
    "for i in range(y_pred.shape[0]):\n",
    "    plt.subplot(3,3,i+1)\n",
    "    plt.plot(y_pred[i,:],yts,'o')\n",
    "    plt.plot([0.25,1.5], [0.25,1.5], 'r-', linewidth=1)\n",
    "    plt.legend(['y_pred = yts'])\n",
    "    plt.title(\"Order = {0:d}\".format(i+1))"
   ]
  },
  {
   "cell_type": "markdown",
   "metadata": {},
   "source": [
    "## 5. Conclusion\n",
    "As we see, second order model fit this situation best. When the order goes higher, the computation complexity increarse but the prediction is poor.\n",
    "\n",
    "Generally, the Ebola will *very likely to* **spread and burst out** when the **average temperature goes higher** in a country."
   ]
  },
  {
   "cell_type": "code",
   "execution_count": null,
   "metadata": {},
   "outputs": [],
   "source": []
  }
 ],
 "metadata": {
  "kernelspec": {
   "display_name": "Python 3",
   "language": "python",
   "name": "python3"
  },
  "language_info": {
   "codemirror_mode": {
    "name": "ipython",
    "version": 3
   },
   "file_extension": ".py",
   "mimetype": "text/x-python",
   "name": "python",
   "nbconvert_exporter": "python",
   "pygments_lexer": "ipython3",
   "version": "3.5.0"
  }
 },
 "nbformat": 4,
 "nbformat_minor": 2
}
